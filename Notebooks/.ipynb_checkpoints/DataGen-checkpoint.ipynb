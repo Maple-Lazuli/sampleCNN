{
 "cells": [
  {
   "cell_type": "code",
   "execution_count": 1,
   "id": "9cee5a6a",
   "metadata": {},
   "outputs": [
    {
     "name": "stderr",
     "output_type": "stream",
     "text": [
      "2023-04-26 20:01:19.854482: I tensorflow/core/platform/cpu_feature_guard.cc:193] This TensorFlow binary is optimized with oneAPI Deep Neural Network Library (oneDNN) to use the following CPU instructions in performance-critical operations:  AVX2 FMA\n",
      "To enable them in other operations, rebuild TensorFlow with the appropriate compiler flags.\n",
      "2023-04-26 20:01:19.955916: W tensorflow/stream_executor/platform/default/dso_loader.cc:64] Could not load dynamic library 'libcudart.so.11.0'; dlerror: libcudart.so.11.0: cannot open shared object file: No such file or directory\n",
      "2023-04-26 20:01:19.955928: I tensorflow/stream_executor/cuda/cudart_stub.cc:29] Ignore above cudart dlerror if you do not have a GPU set up on your machine.\n",
      "2023-04-26 20:01:19.975072: E tensorflow/stream_executor/cuda/cuda_blas.cc:2981] Unable to register cuBLAS factory: Attempting to register factory for plugin cuBLAS when one has already been registered\n",
      "2023-04-26 20:01:20.401624: W tensorflow/stream_executor/platform/default/dso_loader.cc:64] Could not load dynamic library 'libnvinfer.so.7'; dlerror: libnvinfer.so.7: cannot open shared object file: No such file or directory\n",
      "2023-04-26 20:01:20.401664: W tensorflow/stream_executor/platform/default/dso_loader.cc:64] Could not load dynamic library 'libnvinfer_plugin.so.7'; dlerror: libnvinfer_plugin.so.7: cannot open shared object file: No such file or directory\n",
      "2023-04-26 20:01:20.401669: W tensorflow/compiler/tf2tensorrt/utils/py_utils.cc:38] TF-TRT Warning: Cannot dlopen some TensorRT libraries. If you would like to use Nvidia GPU with TensorRT, please make sure the missing libraries mentioned above are installed properly.\n"
     ]
    }
   ],
   "source": [
    "from keras.datasets import mnist\n",
    "import pandas as pd\n",
    "import numpy as np\n",
    "import hashlib"
   ]
  },
  {
   "cell_type": "code",
   "execution_count": 2,
   "id": "6676e4ea",
   "metadata": {},
   "outputs": [],
   "source": [
    "(train_X, train_y), (test_X, test_y) = mnist.load_data()"
   ]
  },
  {
   "cell_type": "code",
   "execution_count": 12,
   "id": "3cad9d50",
   "metadata": {},
   "outputs": [],
   "source": [
    "examples = []\n",
    "counter = 0\n",
    "md5 = hashlib.md5()\n",
    "for x,y in zip(train_X, train_y):\n",
    "    md5.update(bytes(counter))\n",
    "    digest = md5.hexdigest()\n",
    "    \n",
    "    file_name = f\"./data/images/{digest}.npy\"\n",
    "    \n",
    "    x.tofile(f\".{file_name}\")\n",
    "    \n",
    "    example = {\n",
    "        'name': file_name,\n",
    "        'class': y \n",
    "    }\n",
    "    \n",
    "    examples.append(example)\n",
    "    \n",
    "    counter +=1\n",
    "    \n",
    "\n",
    "for x,y in zip(test_X, test_y):\n",
    "    md5.update(bytes(counter))\n",
    "    digest = md5.hexdigest()\n",
    "    \n",
    "    file_name = f\"./data/images/{digest}.npy\"\n",
    "    \n",
    "    x.tofile(f\".{file_name}\")\n",
    "    \n",
    "    example = {\n",
    "        'name': file_name,\n",
    "        'class': y \n",
    "    }\n",
    "    \n",
    "    examples.append(example)\n",
    "    \n",
    "    counter +=1"
   ]
  },
  {
   "cell_type": "code",
   "execution_count": 13,
   "id": "af6d5a23",
   "metadata": {},
   "outputs": [],
   "source": [
    "df = pd.DataFrame.from_dict(examples)\n",
    "df.to_csv(\"dataset.csv\")"
   ]
  },
  {
   "cell_type": "code",
   "execution_count": 14,
   "id": "6a287b26",
   "metadata": {},
   "outputs": [],
   "source": [
    "df.to_csv(\"dataset.csv\")"
   ]
  },
  {
   "cell_type": "code",
   "execution_count": null,
   "id": "f11bf233",
   "metadata": {},
   "outputs": [],
   "source": []
  }
 ],
 "metadata": {
  "kernelspec": {
   "display_name": "Python 3 (ipykernel)",
   "language": "python",
   "name": "python3"
  },
  "language_info": {
   "codemirror_mode": {
    "name": "ipython",
    "version": 3
   },
   "file_extension": ".py",
   "mimetype": "text/x-python",
   "name": "python",
   "nbconvert_exporter": "python",
   "pygments_lexer": "ipython3",
   "version": "3.10.6"
  }
 },
 "nbformat": 4,
 "nbformat_minor": 5
}
